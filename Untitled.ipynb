{
 "cells": [
  {
   "cell_type": "markdown",
   "id": "5e5faadb",
   "metadata": {},
   "source": [
    "#### Step 1: Install Required Libraries\n",
    "- First, make sure you have Python installed on your system. Then, install the necessary libraries by running the following commands in your terminal or command prompt:"
   ]
  },
  {
   "cell_type": "code",
   "execution_count": 17,
   "id": "ee5dbbb0",
   "metadata": {},
   "outputs": [],
   "source": [
    "# !pip install requests\n",
    "# !pip install beautifulsoup4\n",
    "# !pip install pandas\n",
    "# !pip install selenium\n",
    "# !pip install webdriver-manager"
   ]
  },
  {
   "cell_type": "markdown",
   "id": "b030641f",
   "metadata": {},
   "source": [
    "#### Step 2: Import neccesary libraries"
   ]
  },
  {
   "cell_type": "code",
   "execution_count": 18,
   "id": "96d75bbe",
   "metadata": {},
   "outputs": [],
   "source": [
    "import time\n",
    "import csv\n",
    "import requests\n",
    "from bs4 import BeautifulSoup\n",
    "from selenium import webdriver\n",
    "from selenium.webdriver.chrome.service import Service\n",
    "from webdriver_manager.chrome import ChromeDriverManager\n",
    "import pandas as pd"
   ]
  },
  {
   "cell_type": "markdown",
   "id": "04a67ff3",
   "metadata": {},
   "source": [
    "\n",
    "#### Step 3: Scrape Product Data from examplestore1.com\n",
    "- Let's start with scraping product data from \"examplestore1.com\" using the requests library:"
   ]
  },
  {
   "cell_type": "code",
   "execution_count": 5,
   "id": "d63c1cbf",
   "metadata": {},
   "outputs": [],
   "source": [
    "def scrape_examplestore1():\n",
    "    url = \"https://correct.ng/\"\n",
    "    response = requests.get(url)\n",
    "    if response.status_code == 200:\n",
    "        soup = BeautifulSoup(response.text, \"html.parser\")\n",
    "        products = soup.find_all(\"div\", class_=\"product-item\")\n",
    "\n",
    "        data = []\n",
    "        for product in products:\n",
    "            name = product.find(\"h2\").text.strip()\n",
    "            price = product.find(\"span\", class_=\"price\").text.strip()\n",
    "            image_url = product.find(\"img\")[\"src\"]\n",
    "\n",
    "            data.append({\"Name\": name, \"Price\": price, \"Image URL\": image_url})\n",
    "\n",
    "        return data\n",
    "    else:\n",
    "        print(\"Failed to fetch data from examplestore1.com.\")\n",
    "        return []"
   ]
  },
  {
   "cell_type": "markdown",
   "id": "741bf4f9",
   "metadata": {},
   "source": [
    "#### Step 4: Scrape Product Data from examplestore2.com\n",
    "- Now, let's scrape product data from \"examplestore2.com\" using Selenium to handle dynamic content:"
   ]
  },
  {
   "cell_type": "code",
   "execution_count": 13,
   "id": "44f53860",
   "metadata": {},
   "outputs": [],
   "source": [
    "def scrape_examplestore2():\n",
    "    service = Service(ChromeDriverManager().install())\n",
    "    driver = webdriver.Chrome(service=service)\n",
    "\n",
    "    url = \"https://jiji.ng/mobile-phones-tablets\"\n",
    "    driver.get(url)\n",
    "\n",
    "    time.sleep(5)  # Give the page enough time to load dynamic content\n",
    "\n",
    "    soup = BeautifulSoup(driver.page_source, \"html.parser\")\n",
    "    products = soup.find_all(\"div\", class_=\"product-item\")\n",
    "\n",
    "    data = []\n",
    "    for product in products:\n",
    "        name = product.find(\"h3\").text.strip()\n",
    "        price = product.find(\"div\", class_=\"price\").text.strip()\n",
    "        image_url = product.find(\"img\")[\"src\"]\n",
    "\n",
    "        data.append({\"Name\": name, \"Price\": price, \"Image URL\": image_url})\n",
    "\n",
    "    driver.quit()\n",
    "    return data"
   ]
  },
  {
   "cell_type": "markdown",
   "id": "68cc4bd4",
   "metadata": {},
   "source": [
    "#### Step 5: Store Scraped Data in CSV\n",
    "- Now, let's create a function to store the scraped data in a CSV file:"
   ]
  },
  {
   "cell_type": "code",
   "execution_count": 14,
   "id": "473b2bc5",
   "metadata": {},
   "outputs": [],
   "source": [
    "def save_to_csv(data, file_name):\n",
    "    with open(file_name, mode=\"w\", newline=\"\") as file:\n",
    "        fieldnames = [\"Name\", \"Price\", \"Image URL\"]\n",
    "        writer = csv.DictWriter(file, fieldnames=fieldnames)\n",
    "        writer.writeheader()\n",
    "        writer.writerows(data)"
   ]
  },
  {
   "cell_type": "markdown",
   "id": "52a52f9f",
   "metadata": {},
   "source": [
    "#### Step 6: Execute the Web Scraper\n",
    "- Finally, let's execute the web scraper and save the data to a CSV file:"
   ]
  },
  {
   "cell_type": "code",
   "execution_count": 16,
   "id": "007c77a5",
   "metadata": {},
   "outputs": [
    {
     "name": "stdout",
     "output_type": "stream",
     "text": [
      "Web scraping completed successfully.\n"
     ]
    }
   ],
   "source": [
    "if __name__ == \"__main__\":\n",
    "    data_examplestore1 = scrape_examplestore1()\n",
    "    data_examplestore2 = scrape_examplestore2()\n",
    "\n",
    "    # Combine data from both stores\n",
    "    all_data = data_examplestore1 + data_examplestore2\n",
    "\n",
    "    # Save the data to a CSV file\n",
    "    save_to_csv(all_data, \"scraped_products.csv\")\n",
    "\n",
    "    print(\"Web scraping completed successfully.\")"
   ]
  },
  {
   "cell_type": "code",
   "execution_count": 19,
   "id": "1bf47d71",
   "metadata": {},
   "outputs": [],
   "source": [
    "df = pd.read_csv(\"scraped_products.csv\")"
   ]
  },
  {
   "cell_type": "code",
   "execution_count": null,
   "id": "820de4d4",
   "metadata": {},
   "outputs": [],
   "source": []
  },
  {
   "cell_type": "code",
   "execution_count": null,
   "id": "ee8cbcc2",
   "metadata": {},
   "outputs": [],
   "source": []
  }
 ],
 "metadata": {
  "kernelspec": {
   "display_name": "Python 3 (ipykernel)",
   "language": "python",
   "name": "python3"
  },
  "language_info": {
   "codemirror_mode": {
    "name": "ipython",
    "version": 3
   },
   "file_extension": ".py",
   "mimetype": "text/x-python",
   "name": "python",
   "nbconvert_exporter": "python",
   "pygments_lexer": "ipython3",
   "version": "3.11.3"
  }
 },
 "nbformat": 4,
 "nbformat_minor": 5
}
